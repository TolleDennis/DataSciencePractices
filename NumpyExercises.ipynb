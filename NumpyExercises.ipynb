{
 "cells": [
  {
   "cell_type": "markdown",
   "metadata": {},
   "source": [
    "INTRODUCTION TO NUMPY"
   ]
  },
  {
   "cell_type": "code",
   "execution_count": 3,
   "metadata": {},
   "outputs": [],
   "source": [
    "import numpy as np"
   ]
  },
  {
   "cell_type": "code",
   "execution_count": 4,
   "metadata": {},
   "outputs": [],
   "source": [
    "x=np.array([23,45,1])\n",
    "y=np.array([2,34,1])\n",
    "w=(x*y)"
   ]
  },
  {
   "cell_type": "code",
   "execution_count": 5,
   "metadata": {},
   "outputs": [
    {
     "name": "stdout",
     "output_type": "stream",
     "text": [
      "(array([23, 45,  1]), array([  46, 1530,    1]))\n"
     ]
    }
   ],
   "source": [
    "newArray=x,w\n",
    "print(newArray)"
   ]
  },
  {
   "cell_type": "code",
   "execution_count": 6,
   "metadata": {},
   "outputs": [
    {
     "data": {
      "text/plain": [
       "1"
      ]
     },
     "execution_count": 6,
     "metadata": {},
     "output_type": "execute_result"
    }
   ],
   "source": [
    "#get dimension\n",
    "x.ndim\n",
    "y.ndim\n",
    "w.ndim"
   ]
  },
  {
   "cell_type": "code",
   "execution_count": 7,
   "metadata": {},
   "outputs": [
    {
     "name": "stdout",
     "output_type": "stream",
     "text": [
      "[[23 45 67  8 67  3]\n",
      " [12  3  4  6  3  8]\n",
      " [45  7 34 90 67  3]]\n"
     ]
    }
   ],
   "source": [
    "dennis=np.array([[23,45,67,8,67,3],[12,3,4,6,3,8],[45,7,34,90,67,3]])\n",
    "dennis2=np.array([[23,45,67,8,67,3],[12,3,4,6,3,8],[45,7,34,90,67,3]],dtype='int16')\n",
    "print (dennis)"
   ]
  },
  {
   "cell_type": "code",
   "execution_count": 8,
   "metadata": {},
   "outputs": [
    {
     "name": "stdout",
     "output_type": "stream",
     "text": [
      "(3, 6)\n",
      "int32\n",
      "int16\n",
      "4\n",
      "2\n"
     ]
    }
   ],
   "source": [
    "#get shape\n",
    "#get type\n",
    "#get itemsize\n",
    "print(dennis.shape)\n",
    "print(dennis.dtype)\n",
    "print(dennis2.dtype)\n",
    "print(dennis.itemsize)\n",
    "print(dennis2.itemsize)"
   ]
  },
  {
   "cell_type": "code",
   "execution_count": 9,
   "metadata": {},
   "outputs": [
    {
     "name": "stdout",
     "output_type": "stream",
     "text": [
      "23\n",
      "3\n",
      "6\n",
      "[67  4 34]\n"
     ]
    }
   ],
   "source": [
    "#get specific element[r,c]\n",
    "print(dennis[0,0])\n",
    "print(dennis[2,5])\n",
    "print(dennis[1,3])\n",
    "print(dennis[:,2])"
   ]
  },
  {
   "cell_type": "code",
   "execution_count": 10,
   "metadata": {},
   "outputs": [
    {
     "name": "stdout",
     "output_type": "stream",
     "text": [
      "[[23 45 67  8 67  3]\n",
      " [12  3  4  6  3  8]\n",
      " [45  7 34 90 67  3]]\n",
      "[45 34 67]\n",
      "[45]\n"
     ]
    }
   ],
   "source": [
    "#more (startIndx,endIndx,stepsize)\n",
    "print(dennis)\n",
    "print(dennis[2,0:5:2])\n",
    "print(dennis[2,0:-5:2])"
   ]
  },
  {
   "cell_type": "code",
   "execution_count": 11,
   "metadata": {},
   "outputs": [
    {
     "data": {
      "text/plain": [
       "array([[23, 45, 67,  8, 67,  3],\n",
       "       [12,  3,  4,  6,  3,  8],\n",
       "       [45,  7, 34, 90, 67,  3]])"
      ]
     },
     "execution_count": 11,
     "metadata": {},
     "output_type": "execute_result"
    }
   ],
   "source": [
    "#adding more values to arrays\n",
    "dennis"
   ]
  },
  {
   "cell_type": "code",
   "execution_count": 12,
   "metadata": {},
   "outputs": [
    {
     "name": "stdout",
     "output_type": "stream",
     "text": [
      "[[23 45 67  8 67  3]\n",
      " [12  3  4  6  3  8]\n",
      " [30 20 40 50 67  3]]\n",
      "[[23 45 67  8 67  3]\n",
      " [12  3 99  6  3  8]\n",
      " [30 20 40 50 67  3]]\n",
      "[[ 23  45  67 100  67   3]\n",
      " [ 12   3  99   6   3   8]\n",
      " [ 30  20  40  50  67   3]]\n"
     ]
    }
   ],
   "source": [
    "dennis[2,0:-2]=[30,20,40,50]\n",
    "print(dennis)\n",
    "dennis[1,2]=99\n",
    "print(dennis)\n",
    "dennis[0,-3]=100\n",
    "print(dennis)"
   ]
  },
  {
   "cell_type": "code",
   "execution_count": 13,
   "metadata": {},
   "outputs": [
    {
     "data": {
      "text/plain": [
       "array([[ 23,  45,  67, 100,  67,   3],\n",
       "       [ 12,   3,  99,   6,   3,   8],\n",
       "       [ 30,  20,  40,  50,  67,   3]])"
      ]
     },
     "execution_count": 13,
     "metadata": {},
     "output_type": "execute_result"
    }
   ],
   "source": [
    "dennis"
   ]
  },
  {
   "cell_type": "code",
   "execution_count": 14,
   "metadata": {},
   "outputs": [
    {
     "name": "stdout",
     "output_type": "stream",
     "text": [
      "[[[34 55]\n",
      "  [45 89]]\n",
      "\n",
      " [[34 76]\n",
      "  [21 90]]]\n"
     ]
    }
   ],
   "source": [
    "dennis2=np.array([[[34,55],[45,89]],[[34,76],[21,90]]])\n",
    "print(dennis2)"
   ]
  },
  {
   "cell_type": "code",
   "execution_count": 15,
   "metadata": {},
   "outputs": [
    {
     "name": "stdout",
     "output_type": "stream",
     "text": [
      "90\n",
      "55\n",
      "[34 45]\n",
      "[[21 90]]\n",
      "[76 90]\n",
      "[76 90]\n",
      "[[[34 55]\n",
      "  [45 89]]\n",
      "\n",
      " [[30 50]\n",
      "  [70 43]]]\n"
     ]
    }
   ],
   "source": [
    "#get a specific element which is outside another blocka array\n",
    "print(dennis2[1,1,1])\n",
    "print(dennis2[0,0,1])\n",
    "print(dennis2[0,:,0])\n",
    "print(dennis2[1,1:])\n",
    "print(dennis2[1,:,1])\n",
    "print(dennis2[1,:,1])\n",
    "dennis2[1,:]=[[30,50],[70,43]]\n",
    "print(dennis2)"
   ]
  },
  {
   "cell_type": "code",
   "execution_count": 16,
   "metadata": {},
   "outputs": [
    {
     "name": "stdout",
     "output_type": "stream",
     "text": [
      "[[[45. 45. 45. 45. 45.]\n",
      "  [45. 45. 45. 45. 45.]\n",
      "  [45. 45. 45. 45. 45.]]\n",
      "\n",
      " [[45. 45. 45. 45. 45.]\n",
      "  [45. 45. 45. 45. 45.]\n",
      "  [45. 45. 45. 45. 45.]]]\n",
      "[[[0. 0. 0. 0. 0.]\n",
      "  [0. 0. 0. 0. 0.]\n",
      "  [0. 0. 0. 0. 0.]]\n",
      "\n",
      " [[0. 0. 0. 0. 0.]\n",
      "  [0. 0. 0. 0. 0.]\n",
      "  [0. 0. 0. 0. 0.]]]\n"
     ]
    }
   ],
   "source": [
    "#all zeros matrix\n",
    "dennis3=np.zeros((2,3,5))\n",
    "dennis4=np.full_like(dennis3,45)\n",
    "print(dennis4)\n",
    "print(dennis3)"
   ]
  },
  {
   "cell_type": "code",
   "execution_count": 17,
   "metadata": {
    "scrolled": true
   },
   "outputs": [
    {
     "name": "stdout",
     "output_type": "stream",
     "text": [
      "[[0.89546298 0.37785433]\n",
      " [0.37232882 0.052388  ]\n",
      " [0.28562571 0.33299888]\n",
      " [0.30529526 0.14360672]]\n",
      "[[[0.25538491 0.41415107 0.65963245 0.47796563 0.88780219]\n",
      "  [0.20526053 0.43593478 0.01689214 0.52181488 0.33890923]\n",
      "  [0.77528429 0.80791983 0.69949246 0.03025926 0.03062059]]\n",
      "\n",
      " [[0.13585393 0.13992954 0.0791908  0.8996961  0.9413114 ]\n",
      "  [0.96299484 0.59245258 0.92899231 0.36045619 0.80396558]\n",
      "  [0.13928315 0.05596539 0.72917591 0.996448   0.32499625]]]\n"
     ]
    }
   ],
   "source": [
    "#random decimal numbers\n",
    "dennis5=np.random.rand(4,2)\n",
    "print(dennis5)\n",
    "dennis6=np.random.sample(dennis3.shape)\n",
    "print(dennis6)"
   ]
  },
  {
   "cell_type": "code",
   "execution_count": 18,
   "metadata": {},
   "outputs": [
    {
     "data": {
      "text/plain": [
       "array([[83, 61, 52, 73],\n",
       "       [87, 51, 70, 72],\n",
       "       [78, 80, 92, 82],\n",
       "       [97, 73, 90, 78]])"
      ]
     },
     "execution_count": 18,
     "metadata": {},
     "output_type": "execute_result"
    }
   ],
   "source": [
    "#random intergers\n",
    "np.random.randint(50,100,size=(4,4))"
   ]
  },
  {
   "cell_type": "code",
   "execution_count": 19,
   "metadata": {},
   "outputs": [
    {
     "data": {
      "text/plain": [
       "array([[1., 0., 0., 0.],\n",
       "       [0., 1., 0., 0.],\n",
       "       [0., 0., 1., 0.],\n",
       "       [0., 0., 0., 1.]])"
      ]
     },
     "execution_count": 19,
     "metadata": {},
     "output_type": "execute_result"
    }
   ],
   "source": [
    "#identity matrix\n",
    "np.identity(4)"
   ]
  },
  {
   "cell_type": "code",
   "execution_count": 20,
   "metadata": {
    "scrolled": true
   },
   "outputs": [
    {
     "name": "stdout",
     "output_type": "stream",
     "text": [
      "[[34 44 54 64]\n",
      " [34 44 54 64]\n",
      " [34 44 54 64]\n",
      " [34 44 54 64]]\n"
     ]
    }
   ],
   "source": [
    "#repeat matrix array\n",
    "dennis7=np.array([[34,44,54,64]])\n",
    "dennis8=np.repeat(dennis7,4,axis=0)\n",
    "print(dennis8)\n",
    "\n",
    "\n"
   ]
  },
  {
   "cell_type": "code",
   "execution_count": 21,
   "metadata": {},
   "outputs": [
    {
     "name": "stdout",
     "output_type": "stream",
     "text": [
      "[[1. 1. 1. 1. 1.]\n",
      " [1. 1. 1. 1. 1.]\n",
      " [1. 1. 1. 1. 1.]\n",
      " [1. 1. 1. 1. 1.]\n",
      " [1. 1. 1. 1. 1.]]\n",
      "[[0. 0. 0.]\n",
      " [0. 0. 0.]\n",
      " [0. 0. 0.]]\n",
      "[[0. 0. 0.]\n",
      " [0. 9. 0.]\n",
      " [0. 0. 0.]]\n",
      "[[1. 1. 1. 1. 1.]\n",
      " [1. 0. 0. 0. 1.]\n",
      " [1. 0. 9. 0. 1.]\n",
      " [1. 0. 0. 0. 1.]\n",
      " [1. 1. 1. 1. 1.]]\n"
     ]
    }
   ],
   "source": [
    "dennis8=np.ones((5,5))\n",
    "print(dennis8)\n",
    "dennis9=np.zeros((3,3))\n",
    "print(dennis9)\n",
    "dennis9[1,1]=9\n",
    "print(dennis9)\n",
    "dennis8[1:4,1:4]=dennis9\n",
    "print(dennis8)\n"
   ]
  },
  {
   "cell_type": "code",
   "execution_count": 22,
   "metadata": {},
   "outputs": [
    {
     "name": "stdout",
     "output_type": "stream",
     "text": [
      "[ 9 12 48 24]\n"
     ]
    },
    {
     "ename": "TypeError",
     "evalue": "type numpy.ndarray doesn't define __round__ method",
     "output_type": "error",
     "traceback": [
      "\u001b[1;31m---------------------------------------------------------------------------\u001b[0m",
      "\u001b[1;31mTypeError\u001b[0m                                 Traceback (most recent call last)",
      "\u001b[1;32m<ipython-input-22-a2e797b54ef9>\u001b[0m in \u001b[0;36m<module>\u001b[1;34m\u001b[0m\n\u001b[0;32m      2\u001b[0m \u001b[0marra\u001b[0m\u001b[1;33m=\u001b[0m\u001b[0mnp\u001b[0m\u001b[1;33m.\u001b[0m\u001b[0marray\u001b[0m\u001b[1;33m(\u001b[0m\u001b[1;33m[\u001b[0m\u001b[1;36m3\u001b[0m\u001b[1;33m,\u001b[0m\u001b[1;36m4\u001b[0m\u001b[1;33m,\u001b[0m\u001b[1;36m16\u001b[0m\u001b[1;33m,\u001b[0m\u001b[1;36m8\u001b[0m\u001b[1;33m]\u001b[0m\u001b[1;33m)\u001b[0m\u001b[1;33m\u001b[0m\u001b[1;33m\u001b[0m\u001b[0m\n\u001b[0;32m      3\u001b[0m \u001b[0mprint\u001b[0m\u001b[1;33m(\u001b[0m\u001b[0marra\u001b[0m\u001b[1;33m*\u001b[0m\u001b[1;36m3\u001b[0m\u001b[1;33m)\u001b[0m\u001b[1;33m\u001b[0m\u001b[1;33m\u001b[0m\u001b[0m\n\u001b[1;32m----> 4\u001b[1;33m \u001b[0md1\u001b[0m\u001b[1;33m=\u001b[0m\u001b[0mround\u001b[0m\u001b[1;33m(\u001b[0m\u001b[1;33m(\u001b[0m\u001b[0marra\u001b[0m\u001b[1;33m/\u001b[0m\u001b[1;36m3\u001b[0m\u001b[1;33m)\u001b[0m\u001b[1;33m,\u001b[0m\u001b[1;36m1\u001b[0m\u001b[1;33m)\u001b[0m\u001b[1;33m\u001b[0m\u001b[1;33m\u001b[0m\u001b[0m\n\u001b[0m\u001b[0;32m      5\u001b[0m \u001b[0mprint\u001b[0m\u001b[1;33m(\u001b[0m\u001b[0marra\u001b[0m\u001b[1;33m-\u001b[0m\u001b[1;36m2\u001b[0m\u001b[1;33m)\u001b[0m\u001b[1;33m\u001b[0m\u001b[1;33m\u001b[0m\u001b[0m\n",
      "\u001b[1;31mTypeError\u001b[0m: type numpy.ndarray doesn't define __round__ method"
     ]
    }
   ],
   "source": [
    "#mathematics\n",
    "arra=np.array([3,4,16,8])\n",
    "print(arra*3)\n",
    "d1=round((arra/3),1)\n",
    "print(arra-2)"
   ]
  },
  {
   "cell_type": "code",
   "execution_count": 42,
   "metadata": {},
   "outputs": [
    {
     "name": "stdout",
     "output_type": "stream",
     "text": [
      "[[1. 1. 1.]\n",
      " [1. 1. 1.]\n",
      " [1. 1. 1.]\n",
      " [1. 1. 1.]]\n",
      "[[2 2]\n",
      " [2 2]\n",
      " [2 2]]\n",
      "[[6. 6.]\n",
      " [6. 6.]\n",
      " [6. 6.]\n",
      " [6. 6.]]\n"
     ]
    }
   ],
   "source": [
    "#the number of colums in x should be equal to number of rows in y\n",
    "x=np.ones([4,3])\n",
    "print(x)\n",
    "y=np.full((3,2), 2)\n",
    "print(y)\n",
    "print(np.matmul(x,y))\n"
   ]
  },
  {
   "cell_type": "code",
   "execution_count": 50,
   "metadata": {},
   "outputs": [
    {
     "name": "stdout",
     "output_type": "stream",
     "text": [
      "[[1. 0. 0. 0.]\n",
      " [0. 1. 0. 0.]\n",
      " [0. 0. 1. 0.]\n",
      " [0. 0. 0. 1.]]\n",
      "Determinant of an identity matrix is :  1.0\n"
     ]
    }
   ],
   "source": [
    "#find the determinant\n",
    "c=np.identity(4)\n",
    "print(c)\n",
    "d=np.linalg.det(c)\n",
    "print(\"Determinant of an identity matrix is : \",d)"
   ]
  },
  {
   "cell_type": "code",
   "execution_count": 67,
   "metadata": {},
   "outputs": [
    {
     "name": "stdout",
     "output_type": "stream",
     "text": [
      "[[34 78 56]\n",
      " [23 78 87]\n",
      " [34 45 12]]\n",
      "************\n",
      "[34 23 12]\n",
      "************\n",
      "[78 87 45]\n",
      "************\n",
      "[168 188  91]\n",
      "************\n",
      "[23 45 12]\n",
      "************\n",
      "[34 78 87]\n",
      "************\n",
      "[ 91 201 155]\n"
     ]
    }
   ],
   "source": [
    "#Statistics\n",
    "#for axis 1 it will look for the min/sum/max value horizontal\n",
    "#for axis 0 it will look for the min value vertically\n",
    "der=np.array([[34,78,56],[23,78,87],[34,45,12]])\n",
    "print(der)\n",
    "print(\"*\"*12)\n",
    "print(np.min(der,axis=1))\n",
    "print(\"*\"*12)\n",
    "print(np.max(der,axis=1))\n",
    "print(\"*\"*12)\n",
    "print(np.sum(der,axis=1))\n",
    "print(\"*\"*12)\n",
    "print(np.min(der,axis=0))\n",
    "print(\"*\"*12)\n",
    "print(np.max(der,axis=0))\n",
    "print(\"*\"*12)\n",
    "print(np.sum(der,axis=0))"
   ]
  },
  {
   "cell_type": "code",
   "execution_count": 72,
   "metadata": {},
   "outputs": [
    {
     "name": "stdout",
     "output_type": "stream",
     "text": [
      "[[23 45 67  8 67  3]\n",
      " [12  3  4  6  3  8]\n",
      " [45  7 34 90 67  3]]\n",
      "[[23 45 67  8 67  3]\n",
      " [12  3  4  6  3  8]\n",
      " [45  7 34 90 67  3]]\n"
     ]
    }
   ],
   "source": [
    "#Reorganizing Arrays\n",
    "before=np.array([[23,45,67,8,67,3],[12,3,4,6,3,8],[45,7,34,90,67,3]])\n",
    "print(before)\n",
    "after=before.reshape(3,6)\n",
    "print(after)"
   ]
  },
  {
   "cell_type": "code",
   "execution_count": 73,
   "metadata": {},
   "outputs": [
    {
     "name": "stdout",
     "output_type": "stream",
     "text": [
      "[[1 2 3]\n",
      " [4 5 6]\n",
      " [1 2 3]\n",
      " [4 5 6]]\n"
     ]
    }
   ],
   "source": [
    "#verticall stacking\n",
    "x=np.array([1,2,3])\n",
    "y=np.array([4,5,6])\n",
    "print(np.vstack([x,y,x,y]))"
   ]
  },
  {
   "cell_type": "code",
   "execution_count": 81,
   "metadata": {},
   "outputs": [
    {
     "name": "stdout",
     "output_type": "stream",
     "text": [
      "[23. 34.  5.  6.  7.  8.  8.  9. 34. 67. 67. 45. 23. 45. 22. 34. 77. 90.\n",
      " 56. 78.  7. 56. 68. 34. 56. 12. 32. 43. 67. 78. 58. 25. 28. 37. 35. 49.\n",
      " 46. 68.  6. 45.]\n",
      "******************************************\n",
      "[23 34  5  6  7  8  8  9 34 67 67 45 23 45 22 34 77 90 56 78  7 56 68 34\n",
      " 56 12 32 43 67 78 58 25 28 37 35 49 46 68  6 45]\n"
     ]
    }
   ],
   "source": [
    "#load data from files\n",
    "filedata=np.genfromtxt('data.txt', delimiter=\",\")\n",
    "print(filedata)\n",
    "print(\"*\"*42)\n",
    "filedata=filedata.astype(\"int32\")\n",
    "print(filedata)\n"
   ]
  },
  {
   "cell_type": "code",
   "execution_count": 83,
   "metadata": {},
   "outputs": [
    {
     "name": "stdout",
     "output_type": "stream",
     "text": [
      "[False False False False False False False False False  True  True False\n",
      " False False False False  True  True  True  True False  True  True False\n",
      "  True False False False  True  True  True False False False False False\n",
      " False  True False False]\n",
      "[67 67 77 90 56 78 56 68 56 67 78 58 68]\n"
     ]
    }
   ],
   "source": [
    "#boolean masking and advanced indexing\n",
    "print(filedata>50)\n",
    "print(filedata[filedata>50])"
   ]
  },
  {
   "cell_type": "code",
   "execution_count": 85,
   "metadata": {},
   "outputs": [
    {
     "data": {
      "text/plain": [
       "array([6, 8, 3])"
      ]
     },
     "execution_count": 85,
     "metadata": {},
     "output_type": "execute_result"
    }
   ],
   "source": [
    "dert=np.array([1,6,8,9,5,3])\n",
    "dert[[1,2,5]]"
   ]
  },
  {
   "cell_type": "code",
   "execution_count": 95,
   "metadata": {},
   "outputs": [
    {
     "data": {
      "text/plain": [
       "False"
      ]
     },
     "execution_count": 95,
     "metadata": {},
     "output_type": "execute_result"
    }
   ],
   "source": [
    "np.all(filedata > 50, axis=0)"
   ]
  },
  {
   "cell_type": "code",
   "execution_count": 88,
   "metadata": {},
   "outputs": [
    {
     "data": {
      "text/plain": [
       "array([23, 34,  5,  6,  7,  8,  8,  9, 34, 67, 67, 45, 23, 45, 22, 34, 77,\n",
       "       90, 56, 78,  7, 56, 68, 34, 56, 12, 32, 43, 67, 78, 58, 25, 28, 37,\n",
       "       35, 49, 46, 68,  6, 45])"
      ]
     },
     "execution_count": 88,
     "metadata": {},
     "output_type": "execute_result"
    }
   ],
   "source": [
    "filedata"
   ]
  },
  {
   "cell_type": "code",
   "execution_count": 98,
   "metadata": {},
   "outputs": [
    {
     "data": {
      "text/plain": [
       "array([[ 1,  2,  3,  4,  5],\n",
       "       [ 6,  7,  8,  9, 10],\n",
       "       [11, 12, 13, 14, 15],\n",
       "       [16, 17, 18, 19, 20],\n",
       "       [21, 22, 23, 24, 25],\n",
       "       [26, 27, 28, 29, 30]])"
      ]
     },
     "execution_count": 98,
     "metadata": {},
     "output_type": "execute_result"
    }
   ],
   "source": [
    "dert1=np.array([[1,2,3,4,5],[6,7,8,9,10],[11,12,13,14,15],[16,17,18,19,20],[21,22,23,24,25],[26,27,28,29,30]])\n",
    "dert1"
   ]
  },
  {
   "cell_type": "code",
   "execution_count": 100,
   "metadata": {},
   "outputs": [
    {
     "data": {
      "text/plain": [
       "array([[11, 12],\n",
       "       [16, 17]])"
      ]
     },
     "execution_count": 100,
     "metadata": {},
     "output_type": "execute_result"
    }
   ],
   "source": [
    "dert1[2:4,0:2]"
   ]
  },
  {
   "cell_type": "code",
   "execution_count": 104,
   "metadata": {},
   "outputs": [
    {
     "data": {
      "text/plain": [
       "array([ 7, 13, 19, 25])"
      ]
     },
     "execution_count": 104,
     "metadata": {},
     "output_type": "execute_result"
    }
   ],
   "source": [
    "dert1[[1,2,3,4],[1,2,3,4]]"
   ]
  },
  {
   "cell_type": "code",
   "execution_count": 105,
   "metadata": {},
   "outputs": [
    {
     "data": {
      "text/plain": [
       "array([[24, 25],\n",
       "       [29, 30]])"
      ]
     },
     "execution_count": 105,
     "metadata": {},
     "output_type": "execute_result"
    }
   ],
   "source": [
    "dert1[4:6,3:5]"
   ]
  },
  {
   "cell_type": "code",
   "execution_count": null,
   "metadata": {},
   "outputs": [],
   "source": []
  }
 ],
 "metadata": {
  "kernelspec": {
   "display_name": "Python 3",
   "language": "python",
   "name": "python3"
  },
  "language_info": {
   "codemirror_mode": {
    "name": "ipython",
    "version": 3
   },
   "file_extension": ".py",
   "mimetype": "text/x-python",
   "name": "python",
   "nbconvert_exporter": "python",
   "pygments_lexer": "ipython3",
   "version": "3.8.5"
  }
 },
 "nbformat": 4,
 "nbformat_minor": 4
}
