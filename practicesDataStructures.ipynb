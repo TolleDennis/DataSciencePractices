{
 "cells": [
  {
   "cell_type": "markdown",
   "metadata": {},
   "source": [
    "DATA STRUCTURES"
   ]
  },
  {
   "cell_type": "code",
   "execution_count": 81,
   "metadata": {},
   "outputs": [
    {
     "name": "stdout",
     "output_type": "stream",
     "text": [
      "['DENNIS', 8]\n",
      "('DENNIS', 8)\n",
      "67\n",
      "{1, 2, 3, 17, 'TIARA'}\n"
     ]
    }
   ],
   "source": [
    "ListA=[23,67,\"DENNIS\",8,5.8,'COUNSEL']\n",
    "print(ListA[2:4])\n",
    "TupleA=(23,67,\"DENNIS\",8,5.8,'COUNSEL')\n",
    "TupleB=(33,87,\"TENNIS\",17,6.8,'DOUNSEL')\n",
    "print(TupleA[2:4])\n",
    "DictA={\"COLM1\":23,\"COLM2\":67,\"NAME\":\"DENNIS\",\"AGE\":8,\"HEIGHT\":5.8,\"POSITION\":'COUNSEL'}\n",
    "print(DictA[\"COLM2\"])\n",
    "setA={1,2,3,3,\"DENNIS\",\"DENNIS\"}\n",
    "setA.remove(\"DENNIS\")\n",
    "setA.update({\"TIARA\",17})\n",
    "print(setA)"
   ]
  },
  {
   "cell_type": "code",
   "execution_count": 18,
   "metadata": {},
   "outputs": [
    {
     "name": "stdout",
     "output_type": "stream",
     "text": [
      "[23, 67, 'DENNIS', 8, 5.8, 'COUNSEL', 3, 34]\n",
      "(23, 67, 'DENNIS', 8, 5.8, 'COUNSEL', 33, 87, 'TENNIS', 17, 6.8, 'DOUNSEL')\n"
     ]
    }
   ],
   "source": [
    "ListB=ListA+[3,34]\n",
    "print(ListB)\n",
    "print(TupleA+TupleB)"
   ]
  },
  {
   "cell_type": "code",
   "execution_count": 89,
   "metadata": {},
   "outputs": [
    {
     "data": {
      "text/plain": [
       "{1, 17, 2, 23, 3, 'SETUP', 'TIARA'}"
      ]
     },
     "execution_count": 89,
     "metadata": {},
     "output_type": "execute_result"
    }
   ],
   "source": [
    "setA\n"
   ]
  },
  {
   "cell_type": "code",
   "execution_count": 31,
   "metadata": {},
   "outputs": [],
   "source": [
    "del(ListA[6])"
   ]
  },
  {
   "cell_type": "code",
   "execution_count": 36,
   "metadata": {},
   "outputs": [
    {
     "data": {
      "text/plain": [
       "[23, 67, 'DENNIS', 8, 5.8, 'COUNSEL', 'TOLLE', 34, 34]"
      ]
     },
     "execution_count": 36,
     "metadata": {},
     "output_type": "execute_result"
    }
   ],
   "source": [
    "ListA\n"
   ]
  },
  {
   "cell_type": "code",
   "execution_count": 37,
   "metadata": {},
   "outputs": [
    {
     "data": {
      "text/plain": [
       "[23, 67, 'DENNIS', 8, 5.8, 'COUNSEL', 'TOLLE', 34, 34, 23, 'FRONTIER']"
      ]
     },
     "execution_count": 37,
     "metadata": {},
     "output_type": "execute_result"
    }
   ],
   "source": [
    "ListA+[23,\"FRONTIER\"]"
   ]
  },
  {
   "cell_type": "code",
   "execution_count": 38,
   "metadata": {},
   "outputs": [
    {
     "data": {
      "text/plain": [
       "[23, 67, 'DENNIS', 8, 5.8, 'COUNSEL', 'TOLLE', 34, 34]"
      ]
     },
     "execution_count": 38,
     "metadata": {},
     "output_type": "execute_result"
    }
   ],
   "source": [
    "ListA"
   ]
  },
  {
   "cell_type": "code",
   "execution_count": 39,
   "metadata": {},
   "outputs": [
    {
     "data": {
      "text/plain": [
       "{'COLM1': 23,\n",
       " 'COLM2': 67,\n",
       " 'NAME': 'DENNIS',\n",
       " 'AGE': 8,\n",
       " 'HEIGHT': 5.8,\n",
       " 'POSITION': 'COUNSEL'}"
      ]
     },
     "execution_count": 39,
     "metadata": {},
     "output_type": "execute_result"
    }
   ],
   "source": [
    "DictA"
   ]
  },
  {
   "cell_type": "code",
   "execution_count": 62,
   "metadata": {},
   "outputs": [
    {
     "data": {
      "text/plain": [
       "{'NAME': 'DENNIS',\n",
       " 'AGE': 8,\n",
       " 'POSITION': 'COUNSEL',\n",
       " 'DEPARTMENT': 'IT',\n",
       " 'SURNAME': 'TOLLE'}"
      ]
     },
     "execution_count": 62,
     "metadata": {},
     "output_type": "execute_result"
    }
   ],
   "source": [
    "DictA['SURNAME']='TOLLE'\n",
    "DictA\n"
   ]
  },
  {
   "cell_type": "code",
   "execution_count": 69,
   "metadata": {},
   "outputs": [
    {
     "name": "stdout",
     "output_type": "stream",
     "text": [
      "{'NAME': 'DENNIS', 'AGE': 8, 'POSITION': 'COUNSEL', 'DEPARTMENT': 'IT', 'SURNAME': 'TOLLE', 'D.O.B': 1989}\n",
      "{'NAME': 'DENNIS', 'AGE': 8, 'POSITION': 'COUNSEL', 'DEPARTMENT': 'IT', 'SURNAME': 'TOLLE', 'D.O.B': 1989}\n"
     ]
    }
   ],
   "source": [
    "#If you copy all the contents in DictA get copied to DictB\n",
    "#If you change a value in memory location of DictA,DictB also changes\n",
    "DictB=DictA\n",
    "DictB[\"D.O.B\"]=1989\n",
    "print(DictA)\n",
    "print(DictB)"
   ]
  },
  {
   "cell_type": "code",
   "execution_count": 71,
   "metadata": {},
   "outputs": [
    {
     "name": "stdout",
     "output_type": "stream",
     "text": [
      "{'NAME': 'DENNIS', 'AGE': 8, 'POSITION': 'COUNSEL', 'DEPARTMENT': 'IT', 'SURNAME': 'TOLLE', 'D.O.B': 1989}\n",
      "{'NAME': 'DENNIS', 'AGE': 8, 'POSITION': 'COUNSEL', 'DEPARTMENT': 'IT', 'SURNAME': 'TOLLE', 'D.O.B': 1989, 'Month': 'MAY'}\n"
     ]
    }
   ],
   "source": [
    "#if you use the copy()funtion the contents dont get copied in both once you alter one\n",
    "DictB=DictA.copy()\n",
    "DictB[\"Month\"]='MAY'\n",
    "print(DictA)\n",
    "print(DictB)\n"
   ]
  },
  {
   "cell_type": "code",
   "execution_count": 72,
   "metadata": {},
   "outputs": [
    {
     "ename": "NameError",
     "evalue": "name 'SetA' is not defined",
     "output_type": "error",
     "traceback": [
      "\u001b[1;31m---------------------------------------------------------------------------\u001b[0m",
      "\u001b[1;31mNameError\u001b[0m                                 Traceback (most recent call last)",
      "\u001b[1;32m<ipython-input-72-6200c50d2f23>\u001b[0m in \u001b[0;36m<module>\u001b[1;34m\u001b[0m\n\u001b[1;32m----> 1\u001b[1;33m \u001b[0mSetA\u001b[0m\u001b[1;33m\u001b[0m\u001b[1;33m\u001b[0m\u001b[0m\n\u001b[0m",
      "\u001b[1;31mNameError\u001b[0m: name 'SetA' is not defined"
     ]
    }
   ],
   "source": [
    "SetA"
   ]
  },
  {
   "cell_type": "code",
   "execution_count": 98,
   "metadata": {},
   "outputs": [
    {
     "data": {
      "text/plain": [
       "{1, 2, 23, 3, 'SETUP', 'TIARA'}"
      ]
     },
     "execution_count": 98,
     "metadata": {},
     "output_type": "execute_result"
    }
   ],
   "source": [
    "setA.update({23,17,'SETUP'})\n",
    "setA.remove(17)\n",
    "setA"
   ]
  },
  {
   "cell_type": "code",
   "execution_count": 106,
   "metadata": {},
   "outputs": [
    {
     "data": {
      "text/plain": [
       "('DENNIS', 8, 5.8, 'COUNSEL')"
      ]
     },
     "execution_count": 106,
     "metadata": {},
     "output_type": "execute_result"
    }
   ],
   "source": [
    "TupleA[2:]"
   ]
  },
  {
   "cell_type": "code",
   "execution_count": null,
   "metadata": {},
   "outputs": [],
   "source": []
  }
 ],
 "metadata": {
  "kernelspec": {
   "display_name": "Python 3",
   "language": "python",
   "name": "python3"
  },
  "language_info": {
   "codemirror_mode": {
    "name": "ipython",
    "version": 3
   },
   "file_extension": ".py",
   "mimetype": "text/x-python",
   "name": "python",
   "nbconvert_exporter": "python",
   "pygments_lexer": "ipython3",
   "version": "3.8.5"
  }
 },
 "nbformat": 4,
 "nbformat_minor": 4
}
