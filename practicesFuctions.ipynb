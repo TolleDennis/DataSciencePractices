{
 "cells": [
  {
   "cell_type": "code",
   "execution_count": 3,
   "metadata": {},
   "outputs": [],
   "source": [
    "#adds an object at the end\n",
    "ListA=[23,67,\"DENNIS\",67,\"FROM\",8,5.8,'COUNSEL']\n",
    "ListA.append('ADDED')"
   ]
  },
  {
   "cell_type": "code",
   "execution_count": 5,
   "metadata": {},
   "outputs": [
    {
     "data": {
      "text/plain": [
       "[]"
      ]
     },
     "execution_count": 5,
     "metadata": {},
     "output_type": "execute_result"
    }
   ],
   "source": [
    "#Clears entire list\n",
    "ListA.clear()\n",
    "ListA"
   ]
  },
  {
   "cell_type": "code",
   "execution_count": 7,
   "metadata": {},
   "outputs": [
    {
     "data": {
      "text/plain": [
       "[23, 67, 'DENNIS', 67, 'FROM', 8, 5.8, 'COUNSEL']"
      ]
     },
     "execution_count": 7,
     "metadata": {},
     "output_type": "execute_result"
    }
   ],
   "source": [
    "ListA=[23,67,\"DENNIS\",67,67,\"FROM\",8,5.8,'COUNSEL']\n",
    "ListB=ListA.copy()\n",
    "ListB"
   ]
  },
  {
   "cell_type": "code",
   "execution_count": 13,
   "metadata": {},
   "outputs": [
    {
     "name": "stdout",
     "output_type": "stream",
     "text": [
      "2\n"
     ]
    },
    {
     "data": {
      "text/plain": [
       "dict_items([('COLM1', 23), ('COLM2', 67), ('NAME', 'DENNIS'), ('AGE', 8), ('HEIGHT', 5.8), ('POSITION', 'COUNSEL')])"
      ]
     },
     "execution_count": 13,
     "metadata": {},
     "output_type": "execute_result"
    }
   ],
   "source": [
    "#Return no of occurences of a value\n",
    "DictA={\"COLM1\":23,\"COLM2\":67,\"NAME\":\"DENNIS\",\"AGE\":8,\"HEIGHT\":5.8,\"POSITION\":'COUNSEL'}\n",
    "print(ListB.count(67))\n",
    "DictA.items()"
   ]
  },
  {
   "cell_type": "code",
   "execution_count": 19,
   "metadata": {},
   "outputs": [
    {
     "data": {
      "text/plain": [
       "[1, 5, 6, 7, 34, 90]"
      ]
     },
     "execution_count": 19,
     "metadata": {},
     "output_type": "execute_result"
    }
   ],
   "source": [
    "ListC=[34,7,90,6,5,1]\n",
    "ListC.sort()\n",
    "ListC"
   ]
  },
  {
   "cell_type": "code",
   "execution_count": 21,
   "metadata": {},
   "outputs": [
    {
     "data": {
      "text/plain": [
       "5"
      ]
     },
     "execution_count": 21,
     "metadata": {},
     "output_type": "execute_result"
    }
   ],
   "source": [
    "ListC.pop(1)"
   ]
  },
  {
   "cell_type": "code",
   "execution_count": 49,
   "metadata": {},
   "outputs": [
    {
     "name": "stdout",
     "output_type": "stream",
     "text": [
      "{'Name': 'Dennis', 'Surname': 'Tolle', 'D.O.B': 2000, 'AGE': 22, 'Marital Status': 'Single'}\n",
      "{'Department': 'IT Department', 'More Information': {'Name': 'Dennis', 'Surname': 'Tolle', 'D.O.B': 2000, 'AGE': 22, 'Marital Status': 'Single'}}\n"
     ]
    }
   ],
   "source": [
    "#dictionary inside a dictionary\n",
    "\n",
    "DictB={\"Name\":\"Dennis\",\"Surname\":\"Tolle\",\"D.O.B\":2000,\"AGE\":22,\"Marital Status\":\"Single\"}\n",
    "DictC={\"Department\":\"IT Department\",\"More Information\":DictB}\n",
    "print(DictB)\n",
    "print(DictC)"
   ]
  },
  {
   "cell_type": "code",
   "execution_count": 48,
   "metadata": {},
   "outputs": [
    {
     "name": "stdout",
     "output_type": "stream",
     "text": [
      "Name Dennis\n",
      "Surname Tolle\n",
      "D.O.B 2000\n",
      "AGE 22\n",
      "Marital Status Single\n",
      "**************************\n",
      "Department IT Department\n",
      "More Information {'Name': 'Dennis', 'Surname': 'Tolle', 'D.O.B': 2000, 'AGE': 22, 'Marital Status': 'Single'}\n"
     ]
    }
   ],
   "source": [
    "for i in DictB:\n",
    "    print(i,DictB[i])\n",
    "print(\"**************************\")\n",
    "for x in DictC:\n",
    "    print(x,DictC[x])\n"
   ]
  },
  {
   "cell_type": "code",
   "execution_count": 50,
   "metadata": {},
   "outputs": [
    {
     "name": "stdout",
     "output_type": "stream",
     "text": [
      "['DENNIS', 8]\n",
      "('DENNIS', 8)\n",
      "67\n",
      "{1, 2, 3, 17, 'TIARA'}\n"
     ]
    }
   ],
   "source": [
    "ListA=[23,67,\"DENNIS\",8,5.8,'COUNSEL']\n",
    "print(ListA[2:4])\n",
    "TupleA=(23,67,\"DENNIS\",8,5.8,'COUNSEL')\n",
    "TupleB=(33,87,\"TENNIS\",17,6.8,'DOUNSEL')\n",
    "print(TupleA[2:4])\n",
    "DictA={\"COLM1\":23,\"COLM2\":67,\"NAME\":\"DENNIS\",\"AGE\":8,\"HEIGHT\":5.8,\"POSITION\":'COUNSEL'}\n",
    "print(DictA[\"COLM2\"])\n",
    "setA={1,2,3,3,\"DENNIS\",\"DENNIS\"}\n",
    "setA.remove(\"DENNIS\")\n",
    "setA.update({\"TIARA\",17})\n",
    "print(setA)"
   ]
  },
  {
   "cell_type": "code",
   "execution_count": 53,
   "metadata": {},
   "outputs": [
    {
     "data": {
      "text/plain": [
       "{'COLM1': 23,\n",
       " 'COLM2': 67,\n",
       " 'NAME': 'DENNIS',\n",
       " 'AGE': 8,\n",
       " 'HEIGHT': 5.8,\n",
       " 'POSITION': 'COUNSEL'}"
      ]
     },
     "execution_count": 53,
     "metadata": {},
     "output_type": "execute_result"
    }
   ],
   "source": [
    "DictA\n"
   ]
  },
  {
   "cell_type": "code",
   "execution_count": 54,
   "metadata": {},
   "outputs": [
    {
     "name": "stdout",
     "output_type": "stream",
     "text": [
      "[{1, 2, 3, 17, 'TIARA'}, (23, 67, 'DENNIS', 8, 5.8, 'COUNSEL'), 34, 'hello', {'COLM1': 23, 'COLM2': 67, 'NAME': 'DENNIS', 'AGE': 8, 'HEIGHT': 5.8, 'POSITION': 'COUNSEL'}]\n"
     ]
    }
   ],
   "source": [
    "newList=[setA,TupleA,34,\"hello\",DictA]\n",
    "print(newList)"
   ]
  },
  {
   "cell_type": "code",
   "execution_count": 56,
   "metadata": {},
   "outputs": [
    {
     "name": "stdout",
     "output_type": "stream",
     "text": [
      "[0, 1, 4, 9, 16, 25, 36]\n"
     ]
    }
   ],
   "source": [
    "newList2=[x**2 for x in range(7)]\n",
    "print(newList2)"
   ]
  },
  {
   "cell_type": "code",
   "execution_count": 59,
   "metadata": {},
   "outputs": [
    {
     "ename": "AttributeError",
     "evalue": "'list' object has no attribute 'split'",
     "output_type": "error",
     "traceback": [
      "\u001b[1;31m---------------------------------------------------------------------------\u001b[0m",
      "\u001b[1;31mAttributeError\u001b[0m                            Traceback (most recent call last)",
      "\u001b[1;32m<ipython-input-59-86035ae99407>\u001b[0m in \u001b[0;36m<module>\u001b[1;34m\u001b[0m\n\u001b[1;32m----> 1\u001b[1;33m \u001b[0mnewList2\u001b[0m\u001b[1;33m.\u001b[0m\u001b[0msplit\u001b[0m\u001b[1;33m(\u001b[0m\u001b[1;34m\",\"\u001b[0m\u001b[1;33m)\u001b[0m\u001b[1;33m\u001b[0m\u001b[1;33m\u001b[0m\u001b[0m\n\u001b[0m",
      "\u001b[1;31mAttributeError\u001b[0m: 'list' object has no attribute 'split'"
     ]
    }
   ],
   "source": [
    "newList2.split(\",\")"
   ]
  },
  {
   "cell_type": "code",
   "execution_count": 1,
   "metadata": {},
   "outputs": [],
   "source": [
    "import pandas as pd\n",
    "import numpy as np\n",
    "import matplotlib.pyplot as plt\n",
    "import matplotlib.image as mpimg\n",
    "from sklearn.model_selection import train_test_split\n",
    "from sklearn import datasets\n",
    "import seaborn as sns\n",
    "import sys\n",
    "sys.path.append('C:/')\n",
    "import myUniversalFunctions as myUni"
   ]
  },
  {
   "cell_type": "code",
   "execution_count": 3,
   "metadata": {},
   "outputs": [
    {
     "ename": "NameError",
     "evalue": "name 'X' is not defined",
     "output_type": "error",
     "traceback": [
      "\u001b[1;31m---------------------------------------------------------------------------\u001b[0m",
      "\u001b[1;31mNameError\u001b[0m                                 Traceback (most recent call last)",
      "\u001b[1;32m<ipython-input-3-cc48fe2e7a85>\u001b[0m in \u001b[0;36m<module>\u001b[1;34m\u001b[0m\n\u001b[1;32m----> 1\u001b[1;33m \u001b[0mX\u001b[0m\u001b[1;33m=\u001b[0m\u001b[0mX\u001b[0m\u001b[1;33m[\u001b[0m\u001b[1;36m23\u001b[0m\u001b[1;33m,\u001b[0m\u001b[1;36m45\u001b[0m\u001b[1;33m,\u001b[0m\u001b[1;36m28\u001b[0m\u001b[1;33m,\u001b[0m\u001b[1;36m39\u001b[0m\u001b[1;33m,\u001b[0m\u001b[1;36m14\u001b[0m\u001b[1;33m]\u001b[0m\u001b[1;33m.\u001b[0m\u001b[0mvalues\u001b[0m\u001b[1;33m\u001b[0m\u001b[1;33m\u001b[0m\u001b[0m\n\u001b[0m",
      "\u001b[1;31mNameError\u001b[0m: name 'X' is not defined"
     ]
    }
   ],
   "source": [
    "X=X[23,45,28,39,14].values"
   ]
  },
  {
   "cell_type": "code",
   "execution_count": 13,
   "metadata": {},
   "outputs": [],
   "source": [
    "def getUserData():\n",
    "    ListD={}\n",
    "    while True:\n",
    "        userName=input(\"Input your name: \")\n",
    "        userId=input(\"input your userId: \")\n",
    "        userMarks=input(\"input user marks separate by a coma: \")\n",
    "        moreStudents=input(\"reply with 'no' to quit: \")\n",
    "        if userId in ListD:\n",
    "            print(\"userId already exists\")\n",
    "        else:\n",
    "            ListD[userName,userId]=userMarks.split(\",\")\n",
    "            if moreStudents.lower()==\"no\":\n",
    "                return ListD"
   ]
  },
  {
   "cell_type": "code",
   "execution_count": 14,
   "metadata": {},
   "outputs": [
    {
     "name": "stdout",
     "output_type": "stream",
     "text": [
      "Input your name: DENNIS\n",
      "input your userId: 45\n",
      "input user marks separate by a coma: 40,40,50\n",
      "reply with 'no' to quit: TE\n",
      "Input your name: TOLLE\n",
      "input your userId: 55\n",
      "input user marks separate by a coma: 50,80,50\n",
      "reply with 'no' to quit: TE\n",
      "Input your name: AWUOR\n",
      "input your userId: 66\n",
      "input user marks separate by a coma: 30,30,80\n",
      "reply with 'no' to quit: NO\n"
     ]
    }
   ],
   "source": [
    "StudentData=getUserData()"
   ]
  },
  {
   "cell_type": "code",
   "execution_count": 18,
   "metadata": {},
   "outputs": [
    {
     "name": "stdout",
     "output_type": "stream",
     "text": [
      "{('DENNIS', '45'): ['40', '40', '50'], ('TOLLE', '55'): ['50', '80', '50'], ('AWUOR', '66'): ['30', '30', '80']}\n"
     ]
    }
   ],
   "source": [
    "print(StudentData)"
   ]
  },
  {
   "cell_type": "code",
   "execution_count": 23,
   "metadata": {},
   "outputs": [],
   "source": [
    "def avgMarks(ListD):\n",
    "    avgMarks={}\n",
    "    for i in ListD:\n",
    "        temp=ListD[i]\n",
    "        sumMarks=0\n",
    "        for userMarks in temp:\n",
    "            sumMarks+=int(userMarks)\n",
    "        avgMarks[i]=sumMarks/len(temp)\n",
    "        \n",
    "    return avgMarks"
   ]
  },
  {
   "cell_type": "code",
   "execution_count": 29,
   "metadata": {},
   "outputs": [
    {
     "name": "stdout",
     "output_type": "stream",
     "text": [
      "{('DENNIS', '45'): 43.333333333333336, ('TOLLE', '55'): 60.0, ('AWUOR', '66'): 46.666666666666664}\n"
     ]
    }
   ],
   "source": [
    "avgM=avgMarks(StudentData)\n",
    "print(avgM)"
   ]
  },
  {
   "cell_type": "code",
   "execution_count": 31,
   "metadata": {},
   "outputs": [
    {
     "name": "stdout",
     "output_type": "stream",
     "text": [
      "Student name and id:  ('DENNIS', '45') Averaga Score is:  43.333333333333336\n",
      "Student name and id:  ('TOLLE', '55') Averaga Score is:  60.0\n",
      "Student name and id:  ('AWUOR', '66') Averaga Score is:  46.666666666666664\n"
     ]
    }
   ],
   "source": [
    "for i in avgM:\n",
    "    print(\"Student name and id: \",i,\"Averaga Score is: \",avgM[i])"
   ]
  },
  {
   "cell_type": "code",
   "execution_count": null,
   "metadata": {},
   "outputs": [],
   "source": []
  }
 ],
 "metadata": {
  "kernelspec": {
   "display_name": "Python 3",
   "language": "python",
   "name": "python3"
  },
  "language_info": {
   "codemirror_mode": {
    "name": "ipython",
    "version": 3
   },
   "file_extension": ".py",
   "mimetype": "text/x-python",
   "name": "python",
   "nbconvert_exporter": "python",
   "pygments_lexer": "ipython3",
   "version": "3.8.5"
  }
 },
 "nbformat": 4,
 "nbformat_minor": 4
}
