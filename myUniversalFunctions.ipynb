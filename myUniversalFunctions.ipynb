{
 "cells": [
  {
   "cell_type": "code",
   "execution_count": 2,
   "metadata": {},
   "outputs": [],
   "source": [
    "def checkTypeArgs(**args):\n",
    "    for x in args:\n",
    "        if not isinstance(x,(int,float)):\n",
    "            return False\n",
    "    return True\n",
    "def addAllValues(*args):\n",
    "    s=0\n",
    "    for i in args:\n",
    "        s+=i\n",
    "    return s\n",
    "def higherPurchaseCalc(a,b,c):\n",
    "    \"\"\"Method to find higher purchase\"\"\"\n",
    "    buyingPrice = a\n",
    "    months = b/12\n",
    "    percentage = c/100\n",
    "    interest = a * months * percentage\n",
    "    SellingPrice = float(interest + buyingPrice)\n",
    "    return SellingPrice\n",
    "myName = \"Dr Dennis Tolle\""
   ]
  },
  {
   "cell_type": "code",
   "execution_count": null,
   "metadata": {},
   "outputs": [],
   "source": []
  },
  {
   "cell_type": "code",
   "execution_count": null,
   "metadata": {},
   "outputs": [],
   "source": []
  }
 ],
 "metadata": {
  "kernelspec": {
   "display_name": "Python 3",
   "language": "python",
   "name": "python3"
  },
  "language_info": {
   "codemirror_mode": {
    "name": "ipython",
    "version": 3
   },
   "file_extension": ".py",
   "mimetype": "text/x-python",
   "name": "python",
   "nbconvert_exporter": "python",
   "pygments_lexer": "ipython3",
   "version": "3.8.5"
  }
 },
 "nbformat": 4,
 "nbformat_minor": 4
}
